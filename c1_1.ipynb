{
 "cells": [
  {
   "cell_type": "markdown",
   "id": "c03ba63e-df9c-4b98-8dd5-b5a2a82dc4d6",
   "metadata": {},
   "source": [
    "次のセルのコードを実行すると、セルの下方に「hello, world!」と出力される。\n",
    "1行目では、ソースファイル名（この場合は、「hello.c」）を指定している。ソースコード本体は2行目から始まる。"
   ]
  },
  {
   "cell_type": "code",
   "execution_count": 5,
   "id": "c4943a24-b920-4e37-9655-3fb65b7490c2",
   "metadata": {},
   "outputs": [
    {
     "name": "stdout",
     "output_type": "stream",
     "text": [
      "hello, world!\n"
     ]
    }
   ],
   "source": [
    "////hello.c\n",
    "#include <stdio.h>\n",
    "\n",
    "int main(){\n",
    "    printf(\"hello, world!\\n\");\n",
    "    return 0;\n",
    "}"
   ]
  },
  {
   "cell_type": "markdown",
   "id": "6b3cbb47-f98d-4b7c-9746-99d5c7303dd5",
   "metadata": {},
   "source": [
    "「ようこそ、C言語の世界へ!」と出力するようにhello.cを変更したyokoso.cを以下のセルに作成してみよ。\n",
    "ただし、1行目には「////yokoso.c」と書く。"
   ]
  },
  {
   "cell_type": "code",
   "execution_count": 1,
   "id": "2adc1b65-e06a-4e13-adbb-1e9b88f6784f",
   "metadata": {},
   "outputs": [
    {
     "name": "stdout",
     "output_type": "stream",
     "text": [
      "ようこそ、C言語の世界へ！\n"
     ]
    }
   ],
   "source": [
    "////yokoso.c\n",
    "#include <stdio.h>\n",
    "\n",
    "int main(){\n",
    "    printf(\"ようこそ、C言語の世界へ！\\n\");\n",
    "    return 0;\n",
    "}"
   ]
  },
  {
   "cell_type": "code",
   "execution_count": 4,
   "id": "1cfa13c7-a8bc-46b2-b550-9827cbcd9b0f",
   "metadata": {},
   "outputs": [
    {
     "name": "stdout",
     "output_type": "stream",
     "text": [
      "3\n"
     ]
    }
   ],
   "source": [
    "////addition\n",
    "#include <stdio.h>\n",
    "\n",
    "int main(void)\n",
    "{\n",
    "    int i, j;\n",
    "\n",
    "    i = 1;\n",
    "    j = 2;\n",
    "\n",
    "    printf(\"%d\\n\", i + j);\n",
    "\n",
    "    return 0;\n",
    "}"
   ]
  }
 ],
 "metadata": {
  "kernelspec": {
   "display_name": "C",
   "language": "c",
   "name": "c"
  },
  "language_info": {
   "file_extension": ".c",
   "mimetype": "text/plain",
   "name": "c"
  }
 },
 "nbformat": 4,
 "nbformat_minor": 5
}
