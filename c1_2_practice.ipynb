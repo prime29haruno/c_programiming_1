{
 "cells": [
  {
   "cell_type": "code",
   "execution_count": 2,
   "id": "92bcd83d-2f93-4b86-9f1b-198256aa4494",
   "metadata": {},
   "outputs": [
    {
     "name": "stdout",
     "output_type": "stream",
     "text": [
      "ようこそC言語へ！\n",
      "C言語をはじめましょう！\n"
     ]
    }
   ],
   "source": [
    "//sample2-1.c\n",
    "\n",
    "#include <stdio.h>\n",
    "\n",
    "int main(void)\n",
    "{\n",
    "    printf(\"ようこそC言語へ！\\n\");\n",
    "    printf(\"C言語をはじめましょう！\\n\");\n",
    "\n",
    "    return 0;\n",
    "}"
   ]
  },
  {
   "cell_type": "code",
   "execution_count": 5,
   "id": "60d6e3a4-26ae-410d-abcd-f4697a3b355b",
   "metadata": {},
   "outputs": [
    {
     "name": "stdout",
     "output_type": "stream",
     "text": [
      "ようこそC言語へ！\n",
      "C言語をはじめましょう！\n"
     ]
    }
   ],
   "source": [
    "//sample2-1.c (printfをひとつに)\n",
    "\n",
    "#include <stdio.h>\n",
    "\n",
    "int main(void)\n",
    "{\n",
    "    printf(\"ようこそC言語へ！\\nC言語をはじめましょう！\\n\");\n",
    "\n",
    "    return 0;\n",
    "}"
   ]
  },
  {
   "cell_type": "code",
   "execution_count": 12,
   "id": "51c99b69-eafc-417a-af60-219bf200a751",
   "metadata": {},
   "outputs": [
    {
     "name": "stdout",
     "output_type": "stream",
     "text": [
      "Aは文字です。\n",
      "123は整数です。\n",
      "10.500000は小数です。\n",
      "Aは文字、123は整数です。\n"
     ]
    }
   ],
   "source": [
    "//sample2-2.c：変換仕様\n",
    "\n",
    "#include <stdio.h>\n",
    "\n",
    "int main(void)\n",
    "{\n",
    "    printf(\"%cは文字です。\\n\", 'A'); //文字：%c １文字なら'で囲む（文字リテラルは\"で囲む）\n",
    "    printf(\"%dは整数です。\\n\", 123); //整数：%d\n",
    "    printf(\"%fは小数です。\\n\", 10.5); //小数：%f 通常小数点以下６桁まで\n",
    "    printf(\"%cは文字、%dは整数です。\\n\", 'A', 123); // 変換仕様を２つ以上記述⇒カンマで区切った順に文字や数字が埋め込まれる\n",
    "\n",
    "    return 0;\n",
    "}"
   ]
  },
  {
   "cell_type": "code",
   "execution_count": null,
   "id": "ce65d4be-3873-4b74-892e-920325d056db",
   "metadata": {},
   "outputs": [],
   "source": [
    "//sample2-3.c（エスケープシーケンス）\n",
    "\n",
    "#include <stdio.h>\n",
    "\n",
    "int main(void)\n",
    "{\n",
    "    printf(\"バックスラッシュを表示します。：%c\\n\", '\\\\');\n",
    "    printf(\"アポストロフィを表示します。：%C\\n\", '\\'');\n",
    "\n",
    "    return 0;\n",
    "}"
   ]
  },
  {
   "cell_type": "markdown",
   "id": "ccbb7286-c52c-4f7d-a590-48866476ea2a",
   "metadata": {},
   "source": [
    "水平タブ：\\t\n",
    "改行：\\n\n",
    "'：'\\\n",
    "\"：\\\"\n",
    "\\：\\\\（環境によっては￥になる）\n",
    "?：\\?"
   ]
  },
  {
   "cell_type": "code",
   "execution_count": 7,
   "id": "b9172c5b-748a-46a7-8970-aef196cbddb7",
   "metadata": {},
   "outputs": [
    {
     "name": "stdout",
     "output_type": "stream",
     "text": [
      "８進数101の文字コードを持つ文字はAです。\n",
      "16進数61の文字コードを持つ文字はaです。\n"
     ]
    }
   ],
   "source": [
    "//sample2-4.c\n",
    "\n",
    "#include <stdio.h>\n",
    "\n",
    "int main(void)\n",
    "{\n",
    "    printf(\"８進数101の文字コードを持つ文字は%cです。\\n\", '\\101'); // \\ooo：8進数oooの文字コードを持つ文字（oは0~7の数字）\n",
    "    printf(\"16進数61の文字コードを持つ文字は%cです。\\n\", '\\x61'); // \\xhh：16進数hhの文字コードを持つ文字（hは0~9の数字またはA~Fの英字）\n",
    "\n",
    "    return 0;\n",
    "}"
   ]
  },
  {
   "cell_type": "code",
   "execution_count": 10,
   "id": "addc9368-74c3-4b51-8aea-baaa91a399f9",
   "metadata": {},
   "outputs": [
    {
     "name": "stdout",
     "output_type": "stream",
     "text": [
      "10進数の10は10です。\n",
      "8進数の10は8です。\n",
      "16進数の10は16です。\n",
      "16進数のF2A3は62115です。\n"
     ]
    }
   ],
   "source": [
    "//sample2-5.c\n",
    "\n",
    "# include <stdio.h>\n",
    "\n",
    "int main(void)\n",
    "{\n",
    "    printf(\"10進数の10は%dです。\\n\", 10);\n",
    "    printf(\"8進数の10は%dです。\\n\", 010); // 8進数表記の数字を10進数で表示：頭に0\n",
    "    printf(\"16進数の10は%dです。\\n\", 0x10); // 16進数表記の数字を10進数で表示：頭に0x\n",
    "    printf(\"16進数のF2A3は%dです。\\n\", 0xF2A3);\n",
    "\n",
    "    return 0;\n",
    "}"
   ]
  }
 ],
 "metadata": {
  "kernelspec": {
   "display_name": "C",
   "language": "c",
   "name": "c"
  },
  "language_info": {
   "file_extension": ".c",
   "mimetype": "text/plain",
   "name": "c"
  }
 },
 "nbformat": 4,
 "nbformat_minor": 5
}
