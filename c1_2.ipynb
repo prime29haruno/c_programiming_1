{
 "cells": [
  {
   "cell_type": "code",
   "execution_count": 1,
   "id": "08886896-1b33-4b80-bb65-f4588ffccad1",
   "metadata": {},
   "outputs": [
    {
     "name": "stdout",
     "output_type": "stream",
     "text": [
      "ようこそC言語へ!\n",
      "C言語をはじめましょう!\n"
     ]
    }
   ],
   "source": [
    "////sample2-1.c\n",
    "/*\n",
    "文字を画面に出力するコード\n",
    "*/\n",
    "#include <stdio.h> //画面出力に必要\n",
    "\n",
    "int main(void) //main()関数の開始部分\n",
    "{\n",
    "\tprintf(\"ようこそC言語へ!\\n\"); //最初に実行される\n",
    "\tprintf(\"C言語をはじめましょう!\\n\"); //次に実行される\n",
    "\t\n",
    "\treturn 0; //main()関数の終了部分\n",
    "}"
   ]
  },
  {
   "cell_type": "code",
   "execution_count": 2,
   "id": "6185cff9-5775-41ad-8949-fb73f58af35d",
   "metadata": {},
   "outputs": [
    {
     "name": "stdout",
     "output_type": "stream",
     "text": [
      "Aは文字です。\n",
      "123は整数です。\n",
      "10.500000は小数です。\n"
     ]
    }
   ],
   "source": [
    "////sample2-2.c\n",
    "#include <stdio.h>\n",
    "\n",
    "int main(void)\n",
    "{\n",
    "\tprintf(\"%cは文字です。\\n\", 'A'); //文字を出力する\n",
    "\tprintf(\"%dは整数です。\\n\", 123); //整数を出力する\n",
    "\tprintf(\"%fは小数です。\\n\", 10.5); //小数を出力する\n",
    "\t\n",
    "\treturn 0;\n",
    "}"
   ]
  },
  {
   "cell_type": "code",
   "execution_count": null,
   "id": "5374a8ce-5659-4f52-80cf-f1430632caa3",
   "metadata": {},
   "outputs": [],
   "source": [
    "////sample2-3.c\n",
    "#include <stdio.h>\n",
    "\n",
    "int main(void)\n",
    "{\n",
    "\tprintf(\"バックスラッシュを表示します。：%c\\n\", '\\\\');\n",
    "\tprintf(\"アポストロフィを表示します。：%c\\n\", '\\'');\n",
    "\t\n",
    "\treturn 0;\n",
    "}"
   ]
  },
  {
   "cell_type": "code",
   "execution_count": null,
   "id": "3e0b682c-7f38-49ac-80e3-958a53c30ee3",
   "metadata": {},
   "outputs": [],
   "source": [
    "////sample2-4.c\n",
    "#include <stdio.h>\n",
    "\n",
    "int main(void)\n",
    "{\n",
    "\tprintf(\"8進数101の文字コードを持つ文字は%cです。\\n\",'\\101');\n",
    "\tprintf(\"16進数61の文字コードを持つ文字は%cです。\\n\",'\\x61');\n",
    "\t\n",
    "\treturn 0;\n",
    "}"
   ]
  },
  {
   "cell_type": "code",
   "execution_count": null,
   "id": "a635f055-5746-485a-85d6-11eae822ad1c",
   "metadata": {},
   "outputs": [],
   "source": [
    "////sample2-5.c\n",
    "#include <stdio.h>\n",
    "\n",
    "int main(void)\n",
    "{\n",
    "\tprintf(\"10進数の10は%dです。\\n\",10);\n",
    "\tprintf(\"8進数の10は%dです。\\n\",010);\n",
    "\tprintf(\"16進数の10は%dです。\\n\",0x10);\n",
    "\tprintf(\"16進数のFは%dです。\\n\",0xF);\n",
    "\t\n",
    "\treturn 0;\n",
    "}"
   ]
  }
 ],
 "metadata": {
  "kernelspec": {
   "display_name": "C",
   "language": "c",
   "name": "c"
  },
  "language_info": {
   "file_extension": ".c",
   "mimetype": "text/plain",
   "name": "c"
  }
 },
 "nbformat": 4,
 "nbformat_minor": 5
}
